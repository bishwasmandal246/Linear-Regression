{
 "cells": [
  {
   "cell_type": "code",
   "execution_count": 1,
   "metadata": {},
   "outputs": [],
   "source": [
    "import pandas as pd\n",
    "import numpy as np\n",
    "from sklearn import linear_model"
   ]
  },
  {
   "cell_type": "code",
   "execution_count": 2,
   "metadata": {},
   "outputs": [],
   "source": [
    "def WAPE(actual,predicted):\n",
    "    sum_actual=sum(actual)\n",
    "    diff=(abs(actual-predicted))\n",
    "    final_diff=(sum(diff))/sum_actual\n",
    "    return final_diff*100"
   ]
  },
  {
   "cell_type": "code",
   "execution_count": 3,
   "metadata": {},
   "outputs": [
    {
     "data": {
      "text/html": [
       "<div>\n",
       "<style scoped>\n",
       "    .dataframe tbody tr th:only-of-type {\n",
       "        vertical-align: middle;\n",
       "    }\n",
       "\n",
       "    .dataframe tbody tr th {\n",
       "        vertical-align: top;\n",
       "    }\n",
       "\n",
       "    .dataframe thead th {\n",
       "        text-align: right;\n",
       "    }\n",
       "</style>\n",
       "<table border=\"1\" class=\"dataframe\">\n",
       "  <thead>\n",
       "    <tr style=\"text-align: right;\">\n",
       "      <th></th>\n",
       "      <th>Men</th>\n",
       "      <th>Women</th>\n",
       "      <th>IncomeErr</th>\n",
       "      <th>IncomePerCap</th>\n",
       "      <th>IncomePerCapErr</th>\n",
       "      <th>Poverty</th>\n",
       "      <th>Professional</th>\n",
       "      <th>Service</th>\n",
       "      <th>Office</th>\n",
       "      <th>Construction</th>\n",
       "      <th>Carpool</th>\n",
       "      <th>MeanCommute</th>\n",
       "      <th>PrivateWork</th>\n",
       "      <th>SelfEmployed</th>\n",
       "      <th>Unemployment</th>\n",
       "      <th>Income</th>\n",
       "      <th>VotingAgeCitizen</th>\n",
       "      <th>Employed</th>\n",
       "      <th>PublicWork</th>\n",
       "      <th>Production</th>\n",
       "    </tr>\n",
       "  </thead>\n",
       "  <tbody>\n",
       "    <tr>\n",
       "      <th>0</th>\n",
       "      <td>27.549574</td>\n",
       "      <td>33.263216</td>\n",
       "      <td>7.411520</td>\n",
       "      <td>8.710481</td>\n",
       "      <td>2.771497</td>\n",
       "      <td>2.728152</td>\n",
       "      <td>9.562943</td>\n",
       "      <td>5.306569</td>\n",
       "      <td>12.034940</td>\n",
       "      <td>6.477127</td>\n",
       "      <td>3.021159</td>\n",
       "      <td>5.265769</td>\n",
       "      <td>9.179465e+05</td>\n",
       "      <td>3.481961</td>\n",
       "      <td>1.167725</td>\n",
       "      <td>21.921372</td>\n",
       "      <td>38.578574</td>\n",
       "      <td>43.034410</td>\n",
       "      <td>6.475869</td>\n",
       "      <td>4.824445</td>\n",
       "    </tr>\n",
       "    <tr>\n",
       "      <th>1</th>\n",
       "      <td>21.546117</td>\n",
       "      <td>24.226376</td>\n",
       "      <td>7.426351</td>\n",
       "      <td>8.000812</td>\n",
       "      <td>2.778784</td>\n",
       "      <td>7.061894</td>\n",
       "      <td>5.666461</td>\n",
       "      <td>7.639867</td>\n",
       "      <td>9.810597</td>\n",
       "      <td>5.345490</td>\n",
       "      <td>3.763459</td>\n",
       "      <td>6.197133</td>\n",
       "      <td>2.411481e+06</td>\n",
       "      <td>4.229694</td>\n",
       "      <td>4.008517</td>\n",
       "      <td>18.550598</td>\n",
       "      <td>26.127092</td>\n",
       "      <td>26.905055</td>\n",
       "      <td>3.242176</td>\n",
       "      <td>8.442469</td>\n",
       "    </tr>\n",
       "    <tr>\n",
       "      <th>2</th>\n",
       "      <td>25.994105</td>\n",
       "      <td>31.328917</td>\n",
       "      <td>7.816509</td>\n",
       "      <td>8.773107</td>\n",
       "      <td>2.776276</td>\n",
       "      <td>3.114277</td>\n",
       "      <td>10.589123</td>\n",
       "      <td>4.212343</td>\n",
       "      <td>10.616338</td>\n",
       "      <td>3.304092</td>\n",
       "      <td>2.900133</td>\n",
       "      <td>4.342238</td>\n",
       "      <td>3.459570e+06</td>\n",
       "      <td>1.669924</td>\n",
       "      <td>1.361097</td>\n",
       "      <td>20.855541</td>\n",
       "      <td>37.292331</td>\n",
       "      <td>41.341201</td>\n",
       "      <td>2.591930</td>\n",
       "      <td>7.804873</td>\n",
       "    </tr>\n",
       "    <tr>\n",
       "      <th>3</th>\n",
       "      <td>21.688682</td>\n",
       "      <td>25.539690</td>\n",
       "      <td>7.106537</td>\n",
       "      <td>8.308748</td>\n",
       "      <td>2.749222</td>\n",
       "      <td>4.874130</td>\n",
       "      <td>6.165703</td>\n",
       "      <td>7.639867</td>\n",
       "      <td>8.565773</td>\n",
       "      <td>2.879355</td>\n",
       "      <td>5.800099</td>\n",
       "      <td>5.351891</td>\n",
       "      <td>3.615880e+06</td>\n",
       "      <td>1.975482</td>\n",
       "      <td>3.833318</td>\n",
       "      <td>19.408077</td>\n",
       "      <td>29.889170</td>\n",
       "      <td>31.324117</td>\n",
       "      <td>2.153420</td>\n",
       "      <td>9.888623</td>\n",
       "    </tr>\n",
       "    <tr>\n",
       "      <th>4</th>\n",
       "      <td>17.029990</td>\n",
       "      <td>20.784630</td>\n",
       "      <td>7.360849</td>\n",
       "      <td>9.268981</td>\n",
       "      <td>2.852475</td>\n",
       "      <td>1.548309</td>\n",
       "      <td>12.691649</td>\n",
       "      <td>4.576270</td>\n",
       "      <td>13.453906</td>\n",
       "      <td>2.135962</td>\n",
       "      <td>3.441958</td>\n",
       "      <td>6.467774</td>\n",
       "      <td>1.808267e+06</td>\n",
       "      <td>1.561955</td>\n",
       "      <td>2.794307</td>\n",
       "      <td>22.028486</td>\n",
       "      <td>24.860638</td>\n",
       "      <td>24.756120</td>\n",
       "      <td>5.579741</td>\n",
       "      <td>2.339930</td>\n",
       "    </tr>\n",
       "    <tr>\n",
       "      <th>...</th>\n",
       "      <td>...</td>\n",
       "      <td>...</td>\n",
       "      <td>...</td>\n",
       "      <td>...</td>\n",
       "      <td>...</td>\n",
       "      <td>...</td>\n",
       "      <td>...</td>\n",
       "      <td>...</td>\n",
       "      <td>...</td>\n",
       "      <td>...</td>\n",
       "      <td>...</td>\n",
       "      <td>...</td>\n",
       "      <td>...</td>\n",
       "      <td>...</td>\n",
       "      <td>...</td>\n",
       "      <td>...</td>\n",
       "      <td>...</td>\n",
       "      <td>...</td>\n",
       "      <td>...</td>\n",
       "      <td>...</td>\n",
       "    </tr>\n",
       "    <tr>\n",
       "      <th>58169</th>\n",
       "      <td>21.675523</td>\n",
       "      <td>25.059648</td>\n",
       "      <td>7.995171</td>\n",
       "      <td>9.010808</td>\n",
       "      <td>2.813671</td>\n",
       "      <td>2.312690</td>\n",
       "      <td>13.087051</td>\n",
       "      <td>3.065125</td>\n",
       "      <td>14.284767</td>\n",
       "      <td>2.135962</td>\n",
       "      <td>3.798082</td>\n",
       "      <td>4.646927</td>\n",
       "      <td>1.897183e+06</td>\n",
       "      <td>3.786712</td>\n",
       "      <td>0.836951</td>\n",
       "      <td>22.604644</td>\n",
       "      <td>30.183082</td>\n",
       "      <td>31.671889</td>\n",
       "      <td>4.672349</td>\n",
       "      <td>2.521154</td>\n",
       "    </tr>\n",
       "    <tr>\n",
       "      <th>58170</th>\n",
       "      <td>21.397637</td>\n",
       "      <td>27.261129</td>\n",
       "      <td>7.157911</td>\n",
       "      <td>7.976108</td>\n",
       "      <td>2.723890</td>\n",
       "      <td>5.509014</td>\n",
       "      <td>4.583681</td>\n",
       "      <td>5.978169</td>\n",
       "      <td>14.421874</td>\n",
       "      <td>6.053719</td>\n",
       "      <td>4.872321</td>\n",
       "      <td>6.430092</td>\n",
       "      <td>3.572752e+06</td>\n",
       "      <td>2.730759</td>\n",
       "      <td>3.129995</td>\n",
       "      <td>19.473569</td>\n",
       "      <td>24.548901</td>\n",
       "      <td>30.816309</td>\n",
       "      <td>1.633003</td>\n",
       "      <td>8.633929</td>\n",
       "    </tr>\n",
       "    <tr>\n",
       "      <th>58171</th>\n",
       "      <td>24.860075</td>\n",
       "      <td>29.275422</td>\n",
       "      <td>6.520953</td>\n",
       "      <td>8.571154</td>\n",
       "      <td>2.732896</td>\n",
       "      <td>3.367338</td>\n",
       "      <td>8.714547</td>\n",
       "      <td>4.988093</td>\n",
       "      <td>10.864589</td>\n",
       "      <td>5.956493</td>\n",
       "      <td>4.326350</td>\n",
       "      <td>6.197133</td>\n",
       "      <td>2.017459e+06</td>\n",
       "      <td>4.526761</td>\n",
       "      <td>2.411897</td>\n",
       "      <td>20.582803</td>\n",
       "      <td>35.595930</td>\n",
       "      <td>37.031567</td>\n",
       "      <td>3.788144</td>\n",
       "      <td>7.491363</td>\n",
       "    </tr>\n",
       "    <tr>\n",
       "      <th>58172</th>\n",
       "      <td>15.709354</td>\n",
       "      <td>18.632440</td>\n",
       "      <td>7.407976</td>\n",
       "      <td>8.108981</td>\n",
       "      <td>2.768836</td>\n",
       "      <td>6.062749</td>\n",
       "      <td>7.167928</td>\n",
       "      <td>7.623993</td>\n",
       "      <td>11.111251</td>\n",
       "      <td>2.276754</td>\n",
       "      <td>4.034887</td>\n",
       "      <td>4.846102</td>\n",
       "      <td>2.645327e+06</td>\n",
       "      <td>2.479489</td>\n",
       "      <td>3.778867</td>\n",
       "      <td>18.380843</td>\n",
       "      <td>21.757404</td>\n",
       "      <td>18.754547</td>\n",
       "      <td>3.918145</td>\n",
       "      <td>8.481039</td>\n",
       "    </tr>\n",
       "    <tr>\n",
       "      <th>58173</th>\n",
       "      <td>25.254836</td>\n",
       "      <td>32.146271</td>\n",
       "      <td>7.043352</td>\n",
       "      <td>8.584913</td>\n",
       "      <td>2.754630</td>\n",
       "      <td>3.582080</td>\n",
       "      <td>9.146908</td>\n",
       "      <td>7.199556</td>\n",
       "      <td>16.127632</td>\n",
       "      <td>4.030843</td>\n",
       "      <td>2.050589</td>\n",
       "      <td>6.669664</td>\n",
       "      <td>1.551781e+06</td>\n",
       "      <td>3.884603</td>\n",
       "      <td>3.939555</td>\n",
       "      <td>20.027896</td>\n",
       "      <td>38.599797</td>\n",
       "      <td>32.724097</td>\n",
       "      <td>5.156702</td>\n",
       "      <td>2.150845</td>\n",
       "    </tr>\n",
       "  </tbody>\n",
       "</table>\n",
       "<p>58174 rows × 20 columns</p>\n",
       "</div>"
      ],
      "text/plain": [
       "             Men      Women  IncomeErr  IncomePerCap  IncomePerCapErr  \\\n",
       "0      27.549574  33.263216   7.411520      8.710481         2.771497   \n",
       "1      21.546117  24.226376   7.426351      8.000812         2.778784   \n",
       "2      25.994105  31.328917   7.816509      8.773107         2.776276   \n",
       "3      21.688682  25.539690   7.106537      8.308748         2.749222   \n",
       "4      17.029990  20.784630   7.360849      9.268981         2.852475   \n",
       "...          ...        ...        ...           ...              ...   \n",
       "58169  21.675523  25.059648   7.995171      9.010808         2.813671   \n",
       "58170  21.397637  27.261129   7.157911      7.976108         2.723890   \n",
       "58171  24.860075  29.275422   6.520953      8.571154         2.732896   \n",
       "58172  15.709354  18.632440   7.407976      8.108981         2.768836   \n",
       "58173  25.254836  32.146271   7.043352      8.584913         2.754630   \n",
       "\n",
       "        Poverty  Professional   Service     Office  Construction   Carpool  \\\n",
       "0      2.728152      9.562943  5.306569  12.034940      6.477127  3.021159   \n",
       "1      7.061894      5.666461  7.639867   9.810597      5.345490  3.763459   \n",
       "2      3.114277     10.589123  4.212343  10.616338      3.304092  2.900133   \n",
       "3      4.874130      6.165703  7.639867   8.565773      2.879355  5.800099   \n",
       "4      1.548309     12.691649  4.576270  13.453906      2.135962  3.441958   \n",
       "...         ...           ...       ...        ...           ...       ...   \n",
       "58169  2.312690     13.087051  3.065125  14.284767      2.135962  3.798082   \n",
       "58170  5.509014      4.583681  5.978169  14.421874      6.053719  4.872321   \n",
       "58171  3.367338      8.714547  4.988093  10.864589      5.956493  4.326350   \n",
       "58172  6.062749      7.167928  7.623993  11.111251      2.276754  4.034887   \n",
       "58173  3.582080      9.146908  7.199556  16.127632      4.030843  2.050589   \n",
       "\n",
       "       MeanCommute   PrivateWork  SelfEmployed  Unemployment     Income  \\\n",
       "0         5.265769  9.179465e+05      3.481961      1.167725  21.921372   \n",
       "1         6.197133  2.411481e+06      4.229694      4.008517  18.550598   \n",
       "2         4.342238  3.459570e+06      1.669924      1.361097  20.855541   \n",
       "3         5.351891  3.615880e+06      1.975482      3.833318  19.408077   \n",
       "4         6.467774  1.808267e+06      1.561955      2.794307  22.028486   \n",
       "...            ...           ...           ...           ...        ...   \n",
       "58169     4.646927  1.897183e+06      3.786712      0.836951  22.604644   \n",
       "58170     6.430092  3.572752e+06      2.730759      3.129995  19.473569   \n",
       "58171     6.197133  2.017459e+06      4.526761      2.411897  20.582803   \n",
       "58172     4.846102  2.645327e+06      2.479489      3.778867  18.380843   \n",
       "58173     6.669664  1.551781e+06      3.884603      3.939555  20.027896   \n",
       "\n",
       "       VotingAgeCitizen   Employed  PublicWork  Production  \n",
       "0             38.578574  43.034410    6.475869    4.824445  \n",
       "1             26.127092  26.905055    3.242176    8.442469  \n",
       "2             37.292331  41.341201    2.591930    7.804873  \n",
       "3             29.889170  31.324117    2.153420    9.888623  \n",
       "4             24.860638  24.756120    5.579741    2.339930  \n",
       "...                 ...        ...         ...         ...  \n",
       "58169         30.183082  31.671889    4.672349    2.521154  \n",
       "58170         24.548901  30.816309    1.633003    8.633929  \n",
       "58171         35.595930  37.031567    3.788144    7.491363  \n",
       "58172         21.757404  18.754547    3.918145    8.481039  \n",
       "58173         38.599797  32.724097    5.156702    2.150845  \n",
       "\n",
       "[58174 rows x 20 columns]"
      ]
     },
     "execution_count": 3,
     "metadata": {},
     "output_type": "execute_result"
    }
   ],
   "source": [
    "census_data=pd.read_csv(\"/Users/bishmdl76/Desktop/PhD KState/Research/Journal Version Esorics 2/TrainValidate.csv\")\n",
    "census_data"
   ]
  },
  {
   "cell_type": "code",
   "execution_count": 4,
   "metadata": {},
   "outputs": [],
   "source": [
    "df=pd.read_csv(\"/Users/bishmdl76/Desktop/PhD KState/Research/Journal Version Esorics 2/TrainData.csv\")"
   ]
  },
  {
   "cell_type": "code",
   "execution_count": 5,
   "metadata": {},
   "outputs": [],
   "source": [
    "t1=df[:40000]\n",
    "v1=df[40000:]"
   ]
  },
  {
   "cell_type": "code",
   "execution_count": 6,
   "metadata": {},
   "outputs": [],
   "source": [
    "y_train=t1.Employed\n",
    "x_train=t1.drop(['Income','VotingAgeCitizen','Employed','PublicWork','Production'],axis='columns')\n",
    "\n",
    "y_validate=v1.Employed\n",
    "x_validate=v1.drop(['Income','VotingAgeCitizen','Employed','PublicWork','Production'],axis='columns')"
   ]
  },
  {
   "cell_type": "code",
   "execution_count": 7,
   "metadata": {},
   "outputs": [
    {
     "data": {
      "text/plain": [
       "LinearRegression(copy_X=True, fit_intercept=True, n_jobs=None, normalize=False)"
      ]
     },
     "execution_count": 7,
     "metadata": {},
     "output_type": "execute_result"
    }
   ],
   "source": [
    "model1 = linear_model.LinearRegression()\n",
    "model1.fit(x_train,y_train)"
   ]
  },
  {
   "cell_type": "code",
   "execution_count": 8,
   "metadata": {},
   "outputs": [
    {
     "name": "stdout",
     "output_type": "stream",
     "text": [
      "Train Answer: [3.69817531]\n",
      "Validate Answer: [3.65096249]\n"
     ]
    }
   ],
   "source": [
    "train_ans=model1.predict(x_train)\n",
    "validate_ans=model1.predict(x_validate)\n",
    "\n",
    "print(\"Train Answer:\",WAPE(np.asarray(y_train).reshape(-1,1),np.asarray(train_ans).reshape(-1,1)))\n",
    "print(\"Validate Answer:\",WAPE(np.asarray(y_validate).reshape(-1,1),np.asarray(validate_ans).reshape(-1,1)))"
   ]
  },
  {
   "cell_type": "code",
   "execution_count": 9,
   "metadata": {},
   "outputs": [
    {
     "name": "stdout",
     "output_type": "stream",
     "text": [
      "[ 7.71289693e-01  8.12174290e-01 -1.25434389e-01  5.74625994e+00\n",
      " -1.49958418e+01  9.97147497e-02  1.08814713e-01  3.44864312e-01\n",
      "  4.63853046e-02  7.10867239e-02  6.90795088e-02 -3.34880974e-02\n",
      "  5.95167744e-07 -2.86936069e-02 -4.98608089e-01]\n"
     ]
    }
   ],
   "source": [
    "print(model1.coef_)"
   ]
  },
  {
   "cell_type": "code",
   "execution_count": 10,
   "metadata": {},
   "outputs": [
    {
     "name": "stdout",
     "output_type": "stream",
     "text": [
      "-16.805264651817936\n"
     ]
    }
   ],
   "source": [
    "print(model1.intercept_)"
   ]
  },
  {
   "cell_type": "code",
   "execution_count": 11,
   "metadata": {},
   "outputs": [],
   "source": [
    "test_data=pd.read_csv(\"/Users/bishmdl76/Desktop/PhD KState/Research/Journal Version Esorics 2/BoxCoxed_TestData.csv\")"
   ]
  },
  {
   "cell_type": "code",
   "execution_count": 12,
   "metadata": {},
   "outputs": [],
   "source": [
    "y_test=test_data.Employed\n",
    "x_test=test_data.drop(['Income','VotingAgeCitizen','Employed','PublicWork','Production'],axis='columns')"
   ]
  },
  {
   "cell_type": "code",
   "execution_count": 13,
   "metadata": {},
   "outputs": [],
   "source": [
    "test_ans=model1.predict(x_test)"
   ]
  },
  {
   "cell_type": "code",
   "execution_count": 14,
   "metadata": {},
   "outputs": [
    {
     "name": "stdout",
     "output_type": "stream",
     "text": [
      "Test Answer: [3.75619896]\n"
     ]
    }
   ],
   "source": [
    "print(\"Test Answer:\",WAPE(np.asarray(y_test).reshape(-1,1),np.asarray(test_ans).reshape(-1,1)))"
   ]
  },
  {
   "cell_type": "code",
   "execution_count": 15,
   "metadata": {},
   "outputs": [
    {
     "data": {
      "text/plain": [
       "['Employed.h5']"
      ]
     },
     "execution_count": 15,
     "metadata": {},
     "output_type": "execute_result"
    }
   ],
   "source": [
    "import joblib\n",
    "joblib.dump(model1,'Employed.h5')"
   ]
  }
 ],
 "metadata": {
  "kernelspec": {
   "display_name": "Python 3",
   "language": "python",
   "name": "python3"
  },
  "language_info": {
   "codemirror_mode": {
    "name": "ipython",
    "version": 3
   },
   "file_extension": ".py",
   "mimetype": "text/x-python",
   "name": "python",
   "nbconvert_exporter": "python",
   "pygments_lexer": "ipython3",
   "version": "3.7.6"
  }
 },
 "nbformat": 4,
 "nbformat_minor": 2
}
